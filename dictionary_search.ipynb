{
 "cells": [
  {
   "cell_type": "code",
   "execution_count": 14,
   "metadata": {},
   "outputs": [],
   "source": [
    "import itertools"
   ]
  },
  {
   "cell_type": "code",
   "execution_count": 17,
   "metadata": {},
   "outputs": [
    {
     "data": {
      "text/plain": [
       "['воз', 'звон', 'зов', 'но', 'он']"
      ]
     },
     "execution_count": 17,
     "metadata": {},
     "output_type": "execute_result"
    }
   ],
   "source": [
    "def words_from_given_letters(dictionary_filepath, word, words_separation = '\\n'):\n",
    "    \n",
    "    '''returns list of words composed from letters of a given word (2nd argument)\n",
    "    searches through a dictionary which filepath should be given as 1st argument\n",
    "    words_separation gives the separator of words in dictionary (default '\\n' (new line)) \n",
    "    requires itertools package'''\n",
    "    \n",
    "    #check wether all arguments are str\n",
    "    if type(words_separation) != str:\n",
    "        raise ValueError('words_separation argument not in str format')\n",
    "    elif type(word) != str:\n",
    "        raise ValueError('word argument not in str format')\n",
    "    elif type(dictionary_filepath) != str:\n",
    "        raise ValueError('words_separation argument not in str format')\n",
    "        \n",
    "    letters = list(word.lower()) #list of letters in a word (letters are lowercased - not including proper nouns)\n",
    "    words_permutations = []\n",
    "    for r in range(1,(len(letters)+1)): #goes from length 1 to lenght of a word\n",
    "        # all permutations of letters of length r\n",
    "        permutations = list(itertools.permutations(letters, r)) \n",
    "        #joins elements of permutations into str\n",
    "        words_permutations.append(list(''.join(permutation) for permutation in permutations))\n",
    "        \n",
    "    #flattening to a single list with words    \n",
    "    words = set(list(itertools.chain(*words_permutations))) \n",
    "    \n",
    "    dictionary = []   \n",
    "        \n",
    "    with open(dictionary_filepath,'r') as file:\n",
    "        for line in file:\n",
    "            word = line.rstrip(words_separation)\n",
    "            if word in words:\n",
    "                dictionary.append(word)\n",
    "            else:\n",
    "                pass\n",
    "    return dictionary\n",
    "\n",
    "dictionary_filepath = 'russian_nouns.txt'\n",
    "word = 'ЗВОН'\n",
    "words_from_letters = words_from_given_letters(dictionary_filepath, word)\n",
    "words_from_letters"
   ]
  }
 ],
 "metadata": {
  "kernelspec": {
   "display_name": "Python 3",
   "language": "python",
   "name": "python3"
  },
  "language_info": {
   "codemirror_mode": {
    "name": "ipython",
    "version": 3
   },
   "file_extension": ".py",
   "mimetype": "text/x-python",
   "name": "python",
   "nbconvert_exporter": "python",
   "pygments_lexer": "ipython3",
   "version": "3.7.4"
  }
 },
 "nbformat": 4,
 "nbformat_minor": 2
}
